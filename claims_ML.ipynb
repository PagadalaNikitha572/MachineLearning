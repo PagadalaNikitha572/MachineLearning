{
 "cells": [
  {
   "cell_type": "code",
   "execution_count": 2,
   "metadata": {},
   "outputs": [],
   "source": [
    "\n",
    "import pandas as pd\n",
    "import numpy as np \n",
    "import matplotlib.pyplot as plt \n",
    "import seaborn as sns\n",
    "%matplotlib inline\n",
    "\n",
    "# Ignore harmless warnings \n",
    "\n",
    "import warnings \n",
    "warnings.filterwarnings(\"ignore\")\n",
    "\n",
    "# Set to display all the columns in dataset\n",
    "\n",
    "pd.set_option(\"display.max_columns\", None)\n",
    "\n",
    "# Set to display all the rows in dataset\n",
    "\n",
    "pd.set_option(\"display.max_rows\", None)\n",
    "\n",
    "# Import psql to run queries \n",
    "\n",
    "import pandasql as psql\n",
    "from pandasql import sqldf\n"
   ]
  },
  {
   "cell_type": "markdown",
   "metadata": {},
   "source": []
  },
  {
   "cell_type": "code",
   "execution_count": 3,
   "metadata": {},
   "outputs": [
    {
     "data": {
      "text/html": [
       "<div>\n",
       "<style scoped>\n",
       "    .dataframe tbody tr th:only-of-type {\n",
       "        vertical-align: middle;\n",
       "    }\n",
       "\n",
       "    .dataframe tbody tr th {\n",
       "        vertical-align: top;\n",
       "    }\n",
       "\n",
       "    .dataframe thead th {\n",
       "        text-align: right;\n",
       "    }\n",
       "</style>\n",
       "<table border=\"1\" class=\"dataframe\">\n",
       "  <thead>\n",
       "    <tr style=\"text-align: right;\">\n",
       "      <th></th>\n",
       "      <th>Policy_Num</th>\n",
       "      <th>Claim_Dt</th>\n",
       "      <th>Accident_Dt</th>\n",
       "      <th>Claim_Amt</th>\n",
       "      <th>Policy_Type</th>\n",
       "      <th>Gender</th>\n",
       "      <th>State</th>\n",
       "      <th>Claims_FB</th>\n",
       "    </tr>\n",
       "  </thead>\n",
       "  <tbody>\n",
       "    <tr>\n",
       "      <th>0</th>\n",
       "      <td>193064198</td>\n",
       "      <td>10/5/2019</td>\n",
       "      <td>9/21/2019</td>\n",
       "      <td>995.41</td>\n",
       "      <td>Truck</td>\n",
       "      <td>Female</td>\n",
       "      <td>CA</td>\n",
       "      <td>very_good</td>\n",
       "    </tr>\n",
       "    <tr>\n",
       "      <th>1</th>\n",
       "      <td>184583553</td>\n",
       "      <td>1/23/2019</td>\n",
       "      <td>1/14/2019</td>\n",
       "      <td>1096.28</td>\n",
       "      <td>Car</td>\n",
       "      <td>Male</td>\n",
       "      <td>CA</td>\n",
       "      <td>very_good</td>\n",
       "    </tr>\n",
       "    <tr>\n",
       "      <th>2</th>\n",
       "      <td>190848083</td>\n",
       "      <td>2/1/2019</td>\n",
       "      <td>1/19/2019</td>\n",
       "      <td>1339.15</td>\n",
       "      <td>Truck</td>\n",
       "      <td>Female</td>\n",
       "      <td>CA</td>\n",
       "      <td>neutral</td>\n",
       "    </tr>\n",
       "    <tr>\n",
       "      <th>3</th>\n",
       "      <td>190871786</td>\n",
       "      <td>11/11/2019</td>\n",
       "      <td>11/6/2019</td>\n",
       "      <td>1276.47</td>\n",
       "      <td>Car</td>\n",
       "      <td>Male</td>\n",
       "      <td>CA</td>\n",
       "      <td>good</td>\n",
       "    </tr>\n",
       "    <tr>\n",
       "      <th>4</th>\n",
       "      <td>197539028</td>\n",
       "      <td>10/3/2019</td>\n",
       "      <td>9/5/2019</td>\n",
       "      <td>881.59</td>\n",
       "      <td>Van</td>\n",
       "      <td>Male</td>\n",
       "      <td>NV</td>\n",
       "      <td>very_good</td>\n",
       "    </tr>\n",
       "  </tbody>\n",
       "</table>\n",
       "</div>"
      ],
      "text/plain": [
       "   Policy_Num    Claim_Dt Accident_Dt  Claim_Amt Policy_Type  Gender State  \\\n",
       "0   193064198   10/5/2019   9/21/2019     995.41       Truck  Female    CA   \n",
       "1   184583553   1/23/2019   1/14/2019    1096.28         Car    Male    CA   \n",
       "2   190848083    2/1/2019   1/19/2019    1339.15       Truck  Female    CA   \n",
       "3   190871786  11/11/2019   11/6/2019    1276.47         Car    Male    CA   \n",
       "4   197539028   10/3/2019    9/5/2019     881.59         Van    Male    NV   \n",
       "\n",
       "   Claims_FB  \n",
       "0  very_good  \n",
       "1  very_good  \n",
       "2    neutral  \n",
       "3       good  \n",
       "4  very_good  "
      ]
     },
     "execution_count": 3,
     "metadata": {},
     "output_type": "execute_result"
    }
   ],
   "source": [
    "# Read the claims data\n",
    "\n",
    "claimsds = pd.read_csv(r\"C:\\Users\\NIKITHA PAGADALA\\Downloads\\Claims_Practice_V1.0.csv\", header=0)\n",
    "\n",
    "# Create back-up file\n",
    "\n",
    "claimsds_bk = claimsds.copy()\n",
    "\n",
    "# Display first 5 records\n",
    "\n",
    "claimsds.head()"
   ]
  },
  {
   "cell_type": "code",
   "execution_count": 4,
   "metadata": {},
   "outputs": [
    {
     "name": "stdout",
     "output_type": "stream",
     "text": [
      "<class 'pandas.core.frame.DataFrame'>\n",
      "RangeIndex: 63976 entries, 0 to 63975\n",
      "Data columns (total 8 columns):\n",
      " #   Column       Non-Null Count  Dtype  \n",
      "---  ------       --------------  -----  \n",
      " 0   Policy_Num   63976 non-null  int64  \n",
      " 1   Claim_Dt     63976 non-null  object \n",
      " 2   Accident_Dt  63976 non-null  object \n",
      " 3   Claim_Amt    63976 non-null  float64\n",
      " 4   Policy_Type  63976 non-null  object \n",
      " 5   Gender       63976 non-null  object \n",
      " 6   State        63976 non-null  object \n",
      " 7   Claims_FB    63976 non-null  object \n",
      "dtypes: float64(1), int64(1), object(6)\n",
      "memory usage: 3.9+ MB\n"
     ]
    }
   ],
   "source": [
    "\n",
    "claimsds.info()"
   ]
  },
  {
   "cell_type": "code",
   "execution_count": 5,
   "metadata": {},
   "outputs": [],
   "source": [
    "# Change the date (object to date format) fields in claims dataset\n",
    "\n",
    "#claimsds['Claim_Dt'] = pd.to_datetime(claimsds['Claim_Dt'], format='%Y-%m-%d')\n",
    "#claimsds['Accident_Dt'] = pd.to_datetime(claimsds['Accident_Dt'], format='%Y-%m-%d')\n",
    "from dateutil.parser import parse\n",
    "claimsds[\"Claim_Dt\"] = claimsds[\"Claim_Dt\"].apply(lambda x: parse(x))\n",
    "claimsds[\"Accident_Dt\"] = claimsds[\"Accident_Dt\"].apply(lambda x: parse(x))"
   ]
  },
  {
   "cell_type": "code",
   "execution_count": 6,
   "metadata": {},
   "outputs": [],
   "source": [
    "claimsds['Date_Diff'] = claimsds['Claim_Dt'].sub(claimsds['Accident_Dt'], axis=0)"
   ]
  },
  {
   "cell_type": "code",
   "execution_count": 7,
   "metadata": {},
   "outputs": [],
   "source": [
    "claimsds['Date_Diff1'] = (claimsds['Claim_Dt'] - claimsds['Accident_Dt']).dt.days"
   ]
  },
  {
   "cell_type": "code",
   "execution_count": 8,
   "metadata": {},
   "outputs": [
    {
     "name": "stdout",
     "output_type": "stream",
     "text": [
      "Policy_Num               int64\n",
      "Claim_Dt        datetime64[ns]\n",
      "Accident_Dt     datetime64[ns]\n",
      "Claim_Amt              float64\n",
      "Policy_Type             object\n",
      "Gender                  object\n",
      "State                   object\n",
      "Claims_FB               object\n",
      "Date_Diff      timedelta64[ns]\n",
      "Date_Diff1               int64\n",
      "dtype: object\n"
     ]
    }
   ],
   "source": [
    "# Display variables data type\n",
    "print(claimsds.dtypes)"
   ]
  },
  {
   "cell_type": "code",
   "execution_count": 9,
   "metadata": {},
   "outputs": [
    {
     "data": {
      "text/plain": [
       "Policy_Num     0\n",
       "Claim_Dt       0\n",
       "Accident_Dt    0\n",
       "Claim_Amt      0\n",
       "Policy_Type    0\n",
       "Gender         0\n",
       "State          0\n",
       "Claims_FB      0\n",
       "Date_Diff      0\n",
       "Date_Diff1     0\n",
       "dtype: int64"
      ]
     },
     "execution_count": 9,
     "metadata": {},
     "output_type": "execute_result"
    }
   ],
   "source": [
    "#Identify the missing values \n",
    "\n",
    "claimsds.isna().sum()"
   ]
  },
  {
   "cell_type": "code",
   "execution_count": 10,
   "metadata": {},
   "outputs": [],
   "source": [
    "# claims amount is converting into Ranges and new column as 'Claims_Range'\n",
    "\n",
    "claimsds['Claims_Range'] = pd.cut(claimsds['Claim_Amt'], [0, 800, 1000, 1200, 1400], \n",
    "                                  labels=['0-800', '801-1000', '1001-1200', '>1201'])"
   ]
  },
  {
   "cell_type": "code",
   "execution_count": 11,
   "metadata": {},
   "outputs": [
    {
     "data": {
      "text/plain": [
       "Claims_Range\n",
       "801-1000     21397\n",
       "1001-1200    21276\n",
       ">1201        17589\n",
       "0-800         3714\n",
       "Name: count, dtype: int64"
      ]
     },
     "execution_count": 11,
     "metadata": {},
     "output_type": "execute_result"
    }
   ],
   "source": [
    "# Count by the categorical variables of Claims_Range\n",
    "\n",
    "claimsds['Claims_Range'].value_counts()"
   ]
  },
  {
   "cell_type": "code",
   "execution_count": 12,
   "metadata": {},
   "outputs": [
    {
     "data": {
      "text/plain": [
       "Policy_Type\n",
       "Car      29186\n",
       "Van      19803\n",
       "Truck    14987\n",
       "Name: count, dtype: int64"
      ]
     },
     "execution_count": 12,
     "metadata": {},
     "output_type": "execute_result"
    }
   ],
   "source": [
    "# Count by the categorical variables of Policy_Type\n",
    "\n",
    "claimsds['Policy_Type'].value_counts()"
   ]
  },
  {
   "cell_type": "code",
   "execution_count": 13,
   "metadata": {},
   "outputs": [
    {
     "name": "stdout",
     "output_type": "stream",
     "text": [
      "Total_Claims_Amount: 68149174.54\n"
     ]
    }
   ],
   "source": [
    "# Aggregate function - sum\n",
    "\n",
    "Total_Claims_Amount = claimsds['Claim_Amt'].sum()\n",
    "print('Total_Claims_Amount:', Total_Claims_Amount)"
   ]
  },
  {
   "cell_type": "code",
   "execution_count": 14,
   "metadata": {},
   "outputs": [
    {
     "name": "stdout",
     "output_type": "stream",
     "text": [
      "Claims_Amount_Mean: 1065.2303135550833\n"
     ]
    }
   ],
   "source": [
    "# Descriptive Statistics - mean\n",
    "\n",
    "Claims_Amount_Mean = claimsds['Claim_Amt'].mean()\n",
    "print('Claims_Amount_Mean:', Claims_Amount_Mean)"
   ]
  },
  {
   "cell_type": "code",
   "execution_count": 15,
   "metadata": {},
   "outputs": [
    {
     "name": "stdout",
     "output_type": "stream",
     "text": [
      "Claim_Amount_Max: 1370.05\n"
     ]
    }
   ],
   "source": [
    "# Aggregate function - max\n",
    "\n",
    "Claim_Amount_Max = claimsds['Claim_Amt'].max()\n",
    "print('Claim_Amount_Max:', Claim_Amount_Max )"
   ]
  },
  {
   "cell_type": "code",
   "execution_count": 16,
   "metadata": {},
   "outputs": [
    {
     "name": "stdout",
     "output_type": "stream",
     "text": [
      "Total_Count: 63976\n"
     ]
    }
   ],
   "source": [
    "# Aggregate function - count\n",
    "\n",
    "Total_Count = claimsds['Claim_Amt'].count()\n",
    "print('Total_Count:', Total_Count)"
   ]
  },
  {
   "cell_type": "code",
   "execution_count": 17,
   "metadata": {},
   "outputs": [
    {
     "data": {
      "text/plain": [
       "1066.125"
      ]
     },
     "execution_count": 17,
     "metadata": {},
     "output_type": "execute_result"
    }
   ],
   "source": [
    "# Descriptive Statistics - median\n",
    "\n",
    "claimsds['Claim_Amt'].median()"
   ]
  },
  {
   "cell_type": "code",
   "execution_count": 18,
   "metadata": {},
   "outputs": [
    {
     "name": "stdout",
     "output_type": "stream",
     "text": [
      "Claim_Amount_Min: 760.35\n"
     ]
    }
   ],
   "source": [
    "# Aggregate function - min\n",
    "\n",
    "Claim_Amount_Min = claimsds['Claim_Amt'].min()\n",
    "print('Claim_Amount_Min:', Claim_Amount_Min)"
   ]
  },
  {
   "cell_type": "code",
   "execution_count": 19,
   "metadata": {},
   "outputs": [
    {
     "data": {
      "text/plain": [
       "0    1323.26\n",
       "Name: Claim_Amt, dtype: float64"
      ]
     },
     "execution_count": 19,
     "metadata": {},
     "output_type": "execute_result"
    }
   ],
   "source": [
    "# Descriptive Statistics - mode\n",
    "\n",
    "claimsds['Claim_Amt'].mode()"
   ]
  },
  {
   "cell_type": "code",
   "execution_count": 20,
   "metadata": {},
   "outputs": [
    {
     "data": {
      "text/plain": [
       "173.18293411940817"
      ]
     },
     "execution_count": 20,
     "metadata": {},
     "output_type": "execute_result"
    }
   ],
   "source": [
    "# Descriptive Statistics - std\n",
    "\n",
    "claimsds['Claim_Amt'].std()"
   ]
  },
  {
   "cell_type": "code",
   "execution_count": 21,
   "metadata": {},
   "outputs": [
    {
     "data": {
      "text/plain": [
       "count    63976.000000\n",
       "mean      1065.230314\n",
       "std        173.182934\n",
       "min        760.350000\n",
       "25%        914.925000\n",
       "50%       1066.125000\n",
       "75%       1215.032500\n",
       "max       1370.050000\n",
       "Name: Claim_Amt, dtype: float64"
      ]
     },
     "execution_count": 21,
     "metadata": {},
     "output_type": "execute_result"
    }
   ],
   "source": [
    "# Dispalys statistical information of the dataset\n",
    "\n",
    "claimsds['Claim_Amt'].describe()"
   ]
  },
  {
   "cell_type": "code",
   "execution_count": 22,
   "metadata": {},
   "outputs": [
    {
     "data": {
      "text/plain": [
       "29992.328670207273"
      ]
     },
     "execution_count": 22,
     "metadata": {},
     "output_type": "execute_result"
    }
   ],
   "source": [
    "# Descriptive Statistics - var\n",
    "\n",
    "claimsds['Claim_Amt'].var()"
   ]
  },
  {
   "cell_type": "code",
   "execution_count": 23,
   "metadata": {},
   "outputs": [],
   "source": [
    "# Creating variable as a 'month' \n",
    "\n",
    "claimsds['Month'] = claimsds['Accident_Dt'].dt.month"
   ]
  },
  {
   "cell_type": "code",
   "execution_count": 24,
   "metadata": {},
   "outputs": [],
   "source": [
    "# Creating new variable \"Day_Name\"\n",
    "\n",
    "claimsds['DayName'] = claimsds['Accident_Dt'].dt.strftime('%A')\n"
   ]
  },
  {
   "cell_type": "code",
   "execution_count": 25,
   "metadata": {},
   "outputs": [],
   "source": [
    "# Creating new variable \"Month_Name\"\n",
    "    \n",
    "claimsds['MonthName'] = claimsds['Accident_Dt'].dt.month_name()"
   ]
  },
  {
   "cell_type": "code",
   "execution_count": 26,
   "metadata": {},
   "outputs": [
    {
     "data": {
      "text/html": [
       "<div>\n",
       "<style scoped>\n",
       "    .dataframe tbody tr th:only-of-type {\n",
       "        vertical-align: middle;\n",
       "    }\n",
       "\n",
       "    .dataframe tbody tr th {\n",
       "        vertical-align: top;\n",
       "    }\n",
       "\n",
       "    .dataframe thead th {\n",
       "        text-align: right;\n",
       "    }\n",
       "</style>\n",
       "<table border=\"1\" class=\"dataframe\">\n",
       "  <thead>\n",
       "    <tr style=\"text-align: right;\">\n",
       "      <th></th>\n",
       "      <th>Month</th>\n",
       "      <th>Claim_Amt</th>\n",
       "    </tr>\n",
       "  </thead>\n",
       "  <tbody>\n",
       "    <tr>\n",
       "      <th>0</th>\n",
       "      <td>1</td>\n",
       "      <td>4667539.73</td>\n",
       "    </tr>\n",
       "    <tr>\n",
       "      <th>1</th>\n",
       "      <td>2</td>\n",
       "      <td>4608789.95</td>\n",
       "    </tr>\n",
       "    <tr>\n",
       "      <th>2</th>\n",
       "      <td>3</td>\n",
       "      <td>4300278.16</td>\n",
       "    </tr>\n",
       "    <tr>\n",
       "      <th>3</th>\n",
       "      <td>4</td>\n",
       "      <td>4050460.51</td>\n",
       "    </tr>\n",
       "    <tr>\n",
       "      <th>4</th>\n",
       "      <td>5</td>\n",
       "      <td>5506535.32</td>\n",
       "    </tr>\n",
       "    <tr>\n",
       "      <th>5</th>\n",
       "      <td>6</td>\n",
       "      <td>6280436.97</td>\n",
       "    </tr>\n",
       "    <tr>\n",
       "      <th>6</th>\n",
       "      <td>7</td>\n",
       "      <td>6146311.74</td>\n",
       "    </tr>\n",
       "    <tr>\n",
       "      <th>7</th>\n",
       "      <td>8</td>\n",
       "      <td>5988960.54</td>\n",
       "    </tr>\n",
       "    <tr>\n",
       "      <th>8</th>\n",
       "      <td>9</td>\n",
       "      <td>6414716.54</td>\n",
       "    </tr>\n",
       "    <tr>\n",
       "      <th>9</th>\n",
       "      <td>10</td>\n",
       "      <td>7220960.87</td>\n",
       "    </tr>\n",
       "    <tr>\n",
       "      <th>10</th>\n",
       "      <td>11</td>\n",
       "      <td>7044322.54</td>\n",
       "    </tr>\n",
       "    <tr>\n",
       "      <th>11</th>\n",
       "      <td>12</td>\n",
       "      <td>5919861.67</td>\n",
       "    </tr>\n",
       "  </tbody>\n",
       "</table>\n",
       "</div>"
      ],
      "text/plain": [
       "    Month   Claim_Amt\n",
       "0       1  4667539.73\n",
       "1       2  4608789.95\n",
       "2       3  4300278.16\n",
       "3       4  4050460.51\n",
       "4       5  5506535.32\n",
       "5       6  6280436.97\n",
       "6       7  6146311.74\n",
       "7       8  5988960.54\n",
       "8       9  6414716.54\n",
       "9      10  7220960.87\n",
       "10     11  7044322.54\n",
       "11     12  5919861.67"
      ]
     },
     "execution_count": 26,
     "metadata": {},
     "output_type": "execute_result"
    }
   ],
   "source": [
    "# Calculate the Claims amount by monthwise\n",
    "\n",
    "Claims_Monthly = claimsds.groupby('Month', as_index=False).agg({'Claim_Amt': 'sum'})\n",
    "Claims_Monthly"
   ]
  },
  {
   "cell_type": "code",
   "execution_count": 27,
   "metadata": {},
   "outputs": [
    {
     "data": {
      "text/html": [
       "<div>\n",
       "<style scoped>\n",
       "    .dataframe tbody tr th:only-of-type {\n",
       "        vertical-align: middle;\n",
       "    }\n",
       "\n",
       "    .dataframe tbody tr th {\n",
       "        vertical-align: top;\n",
       "    }\n",
       "\n",
       "    .dataframe thead th {\n",
       "        text-align: right;\n",
       "    }\n",
       "</style>\n",
       "<table border=\"1\" class=\"dataframe\">\n",
       "  <thead>\n",
       "    <tr style=\"text-align: right;\">\n",
       "      <th></th>\n",
       "      <th>MonthName</th>\n",
       "      <th>Claim_Amt</th>\n",
       "    </tr>\n",
       "  </thead>\n",
       "  <tbody>\n",
       "    <tr>\n",
       "      <th>0</th>\n",
       "      <td>April</td>\n",
       "      <td>4050460.51</td>\n",
       "    </tr>\n",
       "    <tr>\n",
       "      <th>1</th>\n",
       "      <td>August</td>\n",
       "      <td>5988960.54</td>\n",
       "    </tr>\n",
       "    <tr>\n",
       "      <th>2</th>\n",
       "      <td>December</td>\n",
       "      <td>5919861.67</td>\n",
       "    </tr>\n",
       "    <tr>\n",
       "      <th>3</th>\n",
       "      <td>February</td>\n",
       "      <td>4608789.95</td>\n",
       "    </tr>\n",
       "    <tr>\n",
       "      <th>4</th>\n",
       "      <td>January</td>\n",
       "      <td>4667539.73</td>\n",
       "    </tr>\n",
       "    <tr>\n",
       "      <th>5</th>\n",
       "      <td>July</td>\n",
       "      <td>6146311.74</td>\n",
       "    </tr>\n",
       "    <tr>\n",
       "      <th>6</th>\n",
       "      <td>June</td>\n",
       "      <td>6280436.97</td>\n",
       "    </tr>\n",
       "    <tr>\n",
       "      <th>7</th>\n",
       "      <td>March</td>\n",
       "      <td>4300278.16</td>\n",
       "    </tr>\n",
       "    <tr>\n",
       "      <th>8</th>\n",
       "      <td>May</td>\n",
       "      <td>5506535.32</td>\n",
       "    </tr>\n",
       "    <tr>\n",
       "      <th>9</th>\n",
       "      <td>November</td>\n",
       "      <td>7044322.54</td>\n",
       "    </tr>\n",
       "    <tr>\n",
       "      <th>10</th>\n",
       "      <td>October</td>\n",
       "      <td>7220960.87</td>\n",
       "    </tr>\n",
       "    <tr>\n",
       "      <th>11</th>\n",
       "      <td>September</td>\n",
       "      <td>6414716.54</td>\n",
       "    </tr>\n",
       "  </tbody>\n",
       "</table>\n",
       "</div>"
      ],
      "text/plain": [
       "    MonthName   Claim_Amt\n",
       "0       April  4050460.51\n",
       "1      August  5988960.54\n",
       "2    December  5919861.67\n",
       "3    February  4608789.95\n",
       "4     January  4667539.73\n",
       "5        July  6146311.74\n",
       "6        June  6280436.97\n",
       "7       March  4300278.16\n",
       "8         May  5506535.32\n",
       "9    November  7044322.54\n",
       "10    October  7220960.87\n",
       "11  September  6414716.54"
      ]
     },
     "execution_count": 27,
     "metadata": {},
     "output_type": "execute_result"
    }
   ],
   "source": [
    "# Calculate the Claims amount by monthwise\n",
    "\n",
    "Claims_Monthly1 = claimsds.groupby('MonthName', as_index=False).agg({'Claim_Amt': 'sum'})\n",
    "Claims_Monthly1"
   ]
  }
 ],
 "metadata": {
  "kernelspec": {
   "display_name": "Python 3",
   "language": "python",
   "name": "python3"
  },
  "language_info": {
   "codemirror_mode": {
    "name": "ipython",
    "version": 3
   },
   "file_extension": ".py",
   "mimetype": "text/x-python",
   "name": "python",
   "nbconvert_exporter": "python",
   "pygments_lexer": "ipython3",
   "version": "3.11.3"
  }
 },
 "nbformat": 4,
 "nbformat_minor": 2
}
